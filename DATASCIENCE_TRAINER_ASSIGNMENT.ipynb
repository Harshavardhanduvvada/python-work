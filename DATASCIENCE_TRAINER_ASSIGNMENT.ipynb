{
  "nbformat": 4,
  "nbformat_minor": 0,
  "metadata": {
    "colab": {
      "provenance": []
    },
    "kernelspec": {
      "name": "python3",
      "display_name": "Python 3"
    },
    "language_info": {
      "name": "python"
    }
  },
  "cells": [
    {
      "cell_type": "code",
      "execution_count": 1,
      "metadata": {
        "colab": {
          "base_uri": "https://localhost:8080/"
        },
        "id": "q7jlqo2tBFff",
        "outputId": "475c246e-22bc-45de-d113-022fcd3800aa"
      },
      "outputs": [
        {
          "output_type": "stream",
          "name": "stdout",
          "text": [
            "Mounted at /content/drive\n"
          ]
        }
      ],
      "source": [
        "from google.colab import drive\n",
        "drive.mount('/content/drive')"
      ]
    },
    {
      "cell_type": "code",
      "source": [
        "import warnings\n",
        "warnings.filterwarnings('ignore')"
      ],
      "metadata": {
        "id": "DgPWUKigBh6T"
      },
      "execution_count": 2,
      "outputs": []
    },
    {
      "cell_type": "code",
      "source": [
        "import pandas as pd\n",
        "import numpy as np\n",
        "from sklearn.preprocessing import StandardScaler,MinMaxScaler,OneHotEncoder,LabelEncoder"
      ],
      "metadata": {
        "id": "2A1INbHrB2bt"
      },
      "execution_count": 3,
      "outputs": []
    },
    {
      "cell_type": "code",
      "source": [
        "data1 = pd.read_excel(\"/content/drive/MyDrive/DATASCIENCEASSIGNMENT/(INPUT) Rigobuilder RAW.xlsx\")\n",
        "data2 = pd.read_excel(\"/content/drive/MyDrive/DATASCIENCEASSIGNMENT/INPUTUSER ID.xlsx\")"
      ],
      "metadata": {
        "id": "djchJY4vB_YI"
      },
      "execution_count": 4,
      "outputs": []
    },
    {
      "cell_type": "code",
      "source": [
        "data1.shape"
      ],
      "metadata": {
        "id": "0d0snjTVCYS0",
        "colab": {
          "base_uri": "https://localhost:8080/"
        },
        "outputId": "9f7c74f3-f43c-4e72-e7f4-9b7c31b82eab"
      },
      "execution_count": 5,
      "outputs": [
        {
          "output_type": "execute_result",
          "data": {
            "text/plain": [
              "(21, 5)"
            ]
          },
          "metadata": {},
          "execution_count": 5
        }
      ]
    },
    {
      "cell_type": "code",
      "source": [
        "data2.shape"
      ],
      "metadata": {
        "colab": {
          "base_uri": "https://localhost:8080/"
        },
        "id": "GQZIJV7iDS3N",
        "outputId": "090469a5-e138-47d0-dde8-72580bcc8fb4"
      },
      "execution_count": 6,
      "outputs": [
        {
          "output_type": "execute_result",
          "data": {
            "text/plain": [
              "(21, 2)"
            ]
          },
          "metadata": {},
          "execution_count": 6
        }
      ]
    },
    {
      "cell_type": "code",
      "source": [
        "totaldata = pd.merge(data2,data1,on=\"User ID\",how =\"inner\")"
      ],
      "metadata": {
        "id": "K0_FIffqDVE_"
      },
      "execution_count": 7,
      "outputs": []
    },
    {
      "cell_type": "code",
      "source": [
        "totaldata.head(5)"
      ],
      "metadata": {
        "colab": {
          "base_uri": "https://localhost:8080/",
          "height": 206
        },
        "id": "bN_wE2A8EEvk",
        "outputId": "7c93af6a-76a1-4445-b597-2ae9be00994b"
      },
      "execution_count": 8,
      "outputs": [
        {
          "output_type": "execute_result",
          "data": {
            "text/plain": [
              "              Team Name  User ID  S No           Name  total_statements  \\\n",
              "0   Winning Culture Lab      280     1     Soumita M                 13   \n",
              "1  Winning Culture Lab        75     2      Subhangi                 13   \n",
              "2   Winning Culture Lab     1124     3   Nitin Shane                 12   \n",
              "3                Mentor      295     4        Merwin                 13   \n",
              "4     Human Capital Lab      263     5  fardinkamal62                 2   \n",
              "\n",
              "   total_reasons  \n",
              "0             21  \n",
              "1             16  \n",
              "2             11  \n",
              "3             12  \n",
              "4              2  "
            ],
            "text/html": [
              "\n",
              "  <div id=\"df-d0db535e-83a1-489e-a1e7-3918856b6088\">\n",
              "    <div class=\"colab-df-container\">\n",
              "      <div>\n",
              "<style scoped>\n",
              "    .dataframe tbody tr th:only-of-type {\n",
              "        vertical-align: middle;\n",
              "    }\n",
              "\n",
              "    .dataframe tbody tr th {\n",
              "        vertical-align: top;\n",
              "    }\n",
              "\n",
              "    .dataframe thead th {\n",
              "        text-align: right;\n",
              "    }\n",
              "</style>\n",
              "<table border=\"1\" class=\"dataframe\">\n",
              "  <thead>\n",
              "    <tr style=\"text-align: right;\">\n",
              "      <th></th>\n",
              "      <th>Team Name</th>\n",
              "      <th>User ID</th>\n",
              "      <th>S No</th>\n",
              "      <th>Name</th>\n",
              "      <th>total_statements</th>\n",
              "      <th>total_reasons</th>\n",
              "    </tr>\n",
              "  </thead>\n",
              "  <tbody>\n",
              "    <tr>\n",
              "      <th>0</th>\n",
              "      <td>Winning Culture Lab</td>\n",
              "      <td>280</td>\n",
              "      <td>1</td>\n",
              "      <td>Soumita M</td>\n",
              "      <td>13</td>\n",
              "      <td>21</td>\n",
              "    </tr>\n",
              "    <tr>\n",
              "      <th>1</th>\n",
              "      <td>Winning Culture Lab</td>\n",
              "      <td>75</td>\n",
              "      <td>2</td>\n",
              "      <td>Subhangi</td>\n",
              "      <td>13</td>\n",
              "      <td>16</td>\n",
              "    </tr>\n",
              "    <tr>\n",
              "      <th>2</th>\n",
              "      <td>Winning Culture Lab</td>\n",
              "      <td>1124</td>\n",
              "      <td>3</td>\n",
              "      <td>Nitin Shane</td>\n",
              "      <td>12</td>\n",
              "      <td>11</td>\n",
              "    </tr>\n",
              "    <tr>\n",
              "      <th>3</th>\n",
              "      <td>Mentor</td>\n",
              "      <td>295</td>\n",
              "      <td>4</td>\n",
              "      <td>Merwin</td>\n",
              "      <td>13</td>\n",
              "      <td>12</td>\n",
              "    </tr>\n",
              "    <tr>\n",
              "      <th>4</th>\n",
              "      <td>Human Capital Lab</td>\n",
              "      <td>263</td>\n",
              "      <td>5</td>\n",
              "      <td>fardinkamal62</td>\n",
              "      <td>2</td>\n",
              "      <td>2</td>\n",
              "    </tr>\n",
              "  </tbody>\n",
              "</table>\n",
              "</div>\n",
              "      <button class=\"colab-df-convert\" onclick=\"convertToInteractive('df-d0db535e-83a1-489e-a1e7-3918856b6088')\"\n",
              "              title=\"Convert this dataframe to an interactive table.\"\n",
              "              style=\"display:none;\">\n",
              "        \n",
              "  <svg xmlns=\"http://www.w3.org/2000/svg\" height=\"24px\"viewBox=\"0 0 24 24\"\n",
              "       width=\"24px\">\n",
              "    <path d=\"M0 0h24v24H0V0z\" fill=\"none\"/>\n",
              "    <path d=\"M18.56 5.44l.94 2.06.94-2.06 2.06-.94-2.06-.94-.94-2.06-.94 2.06-2.06.94zm-11 1L8.5 8.5l.94-2.06 2.06-.94-2.06-.94L8.5 2.5l-.94 2.06-2.06.94zm10 10l.94 2.06.94-2.06 2.06-.94-2.06-.94-.94-2.06-.94 2.06-2.06.94z\"/><path d=\"M17.41 7.96l-1.37-1.37c-.4-.4-.92-.59-1.43-.59-.52 0-1.04.2-1.43.59L10.3 9.45l-7.72 7.72c-.78.78-.78 2.05 0 2.83L4 21.41c.39.39.9.59 1.41.59.51 0 1.02-.2 1.41-.59l7.78-7.78 2.81-2.81c.8-.78.8-2.07 0-2.86zM5.41 20L4 18.59l7.72-7.72 1.47 1.35L5.41 20z\"/>\n",
              "  </svg>\n",
              "      </button>\n",
              "      \n",
              "  <style>\n",
              "    .colab-df-container {\n",
              "      display:flex;\n",
              "      flex-wrap:wrap;\n",
              "      gap: 12px;\n",
              "    }\n",
              "\n",
              "    .colab-df-convert {\n",
              "      background-color: #E8F0FE;\n",
              "      border: none;\n",
              "      border-radius: 50%;\n",
              "      cursor: pointer;\n",
              "      display: none;\n",
              "      fill: #1967D2;\n",
              "      height: 32px;\n",
              "      padding: 0 0 0 0;\n",
              "      width: 32px;\n",
              "    }\n",
              "\n",
              "    .colab-df-convert:hover {\n",
              "      background-color: #E2EBFA;\n",
              "      box-shadow: 0px 1px 2px rgba(60, 64, 67, 0.3), 0px 1px 3px 1px rgba(60, 64, 67, 0.15);\n",
              "      fill: #174EA6;\n",
              "    }\n",
              "\n",
              "    [theme=dark] .colab-df-convert {\n",
              "      background-color: #3B4455;\n",
              "      fill: #D2E3FC;\n",
              "    }\n",
              "\n",
              "    [theme=dark] .colab-df-convert:hover {\n",
              "      background-color: #434B5C;\n",
              "      box-shadow: 0px 1px 3px 1px rgba(0, 0, 0, 0.15);\n",
              "      filter: drop-shadow(0px 1px 2px rgba(0, 0, 0, 0.3));\n",
              "      fill: #FFFFFF;\n",
              "    }\n",
              "  </style>\n",
              "\n",
              "      <script>\n",
              "        const buttonEl =\n",
              "          document.querySelector('#df-d0db535e-83a1-489e-a1e7-3918856b6088 button.colab-df-convert');\n",
              "        buttonEl.style.display =\n",
              "          google.colab.kernel.accessAllowed ? 'block' : 'none';\n",
              "\n",
              "        async function convertToInteractive(key) {\n",
              "          const element = document.querySelector('#df-d0db535e-83a1-489e-a1e7-3918856b6088');\n",
              "          const dataTable =\n",
              "            await google.colab.kernel.invokeFunction('convertToInteractive',\n",
              "                                                     [key], {});\n",
              "          if (!dataTable) return;\n",
              "\n",
              "          const docLinkHtml = 'Like what you see? Visit the ' +\n",
              "            '<a target=\"_blank\" href=https://colab.research.google.com/notebooks/data_table.ipynb>data table notebook</a>'\n",
              "            + ' to learn more about interactive tables.';\n",
              "          element.innerHTML = '';\n",
              "          dataTable['output_type'] = 'display_data';\n",
              "          await google.colab.output.renderOutput(dataTable, element);\n",
              "          const docLink = document.createElement('div');\n",
              "          docLink.innerHTML = docLinkHtml;\n",
              "          element.appendChild(docLink);\n",
              "        }\n",
              "      </script>\n",
              "    </div>\n",
              "  </div>\n",
              "  "
            ]
          },
          "metadata": {},
          "execution_count": 8
        }
      ]
    },
    {
      "cell_type": "code",
      "source": [
        "totaldata\n"
      ],
      "metadata": {
        "colab": {
          "base_uri": "https://localhost:8080/",
          "height": 707
        },
        "id": "bCsQ52rTE4ok",
        "outputId": "0af6f88c-afc3-4ccd-a8cd-910e4c5e214b"
      },
      "execution_count": 9,
      "outputs": [
        {
          "output_type": "execute_result",
          "data": {
            "text/plain": [
              "               Team Name  User ID  S No           Name  total_statements  \\\n",
              "0    Winning Culture Lab      280     1     Soumita M                 13   \n",
              "1   Winning Culture Lab        75     2      Subhangi                 13   \n",
              "2    Winning Culture Lab     1124     3   Nitin Shane                 12   \n",
              "3                 Mentor      295     4        Merwin                 13   \n",
              "4      Human Capital Lab      263     5  fardinkamal62                 2   \n",
              "5      Human Capital Lab      504     6  __riddhi_213_                 2   \n",
              "6                 Mentor      266     7    Rohit Dutta                 3   \n",
              "7               Tech Lab       71     8       imshawan                 9   \n",
              "8          Brandtech Lab      342     9   Anuraj_Saini                 7   \n",
              "9    Student Unicorn Lab     3367    10        sharath                 8   \n",
              "10              Tech Lab      302    11        Ronak 0                16   \n",
              "11         Brandtech Lab      336    12  Amrit Malviya                 2   \n",
              "12                Mentor      271    13        Saurabh                 6   \n",
              "13   Student Unicorn Lab     3169    14   darshimalde                  3   \n",
              "14              Tech Lab      100    15        Shagun                  2   \n",
              "15   Student Unicorn Lab     3406    16        Ayisha                 11   \n",
              "16             Growpital       69    17        Palash                  6   \n",
              "17             Growpital      539    18         raman                  5   \n",
              "18             Growpital      299    19       Nishant                  4   \n",
              "19               Kringle     3408    20        Vatsal                  2   \n",
              "20               Kringle      360    21       devmenkr                 7   \n",
              "\n",
              "    total_reasons  \n",
              "0              21  \n",
              "1              16  \n",
              "2              11  \n",
              "3              12  \n",
              "4               2  \n",
              "5               7  \n",
              "6               3  \n",
              "7               9  \n",
              "8               7  \n",
              "9               8  \n",
              "10             19  \n",
              "11              4  \n",
              "12              8  \n",
              "13              3  \n",
              "14              2  \n",
              "15              8  \n",
              "16              7  \n",
              "17              5  \n",
              "18              5  \n",
              "19              2  \n",
              "20              7  "
            ],
            "text/html": [
              "\n",
              "  <div id=\"df-cb3d6453-109e-40e3-9742-e17c7950e911\">\n",
              "    <div class=\"colab-df-container\">\n",
              "      <div>\n",
              "<style scoped>\n",
              "    .dataframe tbody tr th:only-of-type {\n",
              "        vertical-align: middle;\n",
              "    }\n",
              "\n",
              "    .dataframe tbody tr th {\n",
              "        vertical-align: top;\n",
              "    }\n",
              "\n",
              "    .dataframe thead th {\n",
              "        text-align: right;\n",
              "    }\n",
              "</style>\n",
              "<table border=\"1\" class=\"dataframe\">\n",
              "  <thead>\n",
              "    <tr style=\"text-align: right;\">\n",
              "      <th></th>\n",
              "      <th>Team Name</th>\n",
              "      <th>User ID</th>\n",
              "      <th>S No</th>\n",
              "      <th>Name</th>\n",
              "      <th>total_statements</th>\n",
              "      <th>total_reasons</th>\n",
              "    </tr>\n",
              "  </thead>\n",
              "  <tbody>\n",
              "    <tr>\n",
              "      <th>0</th>\n",
              "      <td>Winning Culture Lab</td>\n",
              "      <td>280</td>\n",
              "      <td>1</td>\n",
              "      <td>Soumita M</td>\n",
              "      <td>13</td>\n",
              "      <td>21</td>\n",
              "    </tr>\n",
              "    <tr>\n",
              "      <th>1</th>\n",
              "      <td>Winning Culture Lab</td>\n",
              "      <td>75</td>\n",
              "      <td>2</td>\n",
              "      <td>Subhangi</td>\n",
              "      <td>13</td>\n",
              "      <td>16</td>\n",
              "    </tr>\n",
              "    <tr>\n",
              "      <th>2</th>\n",
              "      <td>Winning Culture Lab</td>\n",
              "      <td>1124</td>\n",
              "      <td>3</td>\n",
              "      <td>Nitin Shane</td>\n",
              "      <td>12</td>\n",
              "      <td>11</td>\n",
              "    </tr>\n",
              "    <tr>\n",
              "      <th>3</th>\n",
              "      <td>Mentor</td>\n",
              "      <td>295</td>\n",
              "      <td>4</td>\n",
              "      <td>Merwin</td>\n",
              "      <td>13</td>\n",
              "      <td>12</td>\n",
              "    </tr>\n",
              "    <tr>\n",
              "      <th>4</th>\n",
              "      <td>Human Capital Lab</td>\n",
              "      <td>263</td>\n",
              "      <td>5</td>\n",
              "      <td>fardinkamal62</td>\n",
              "      <td>2</td>\n",
              "      <td>2</td>\n",
              "    </tr>\n",
              "    <tr>\n",
              "      <th>5</th>\n",
              "      <td>Human Capital Lab</td>\n",
              "      <td>504</td>\n",
              "      <td>6</td>\n",
              "      <td>__riddhi_213_</td>\n",
              "      <td>2</td>\n",
              "      <td>7</td>\n",
              "    </tr>\n",
              "    <tr>\n",
              "      <th>6</th>\n",
              "      <td>Mentor</td>\n",
              "      <td>266</td>\n",
              "      <td>7</td>\n",
              "      <td>Rohit Dutta</td>\n",
              "      <td>3</td>\n",
              "      <td>3</td>\n",
              "    </tr>\n",
              "    <tr>\n",
              "      <th>7</th>\n",
              "      <td>Tech Lab</td>\n",
              "      <td>71</td>\n",
              "      <td>8</td>\n",
              "      <td>imshawan</td>\n",
              "      <td>9</td>\n",
              "      <td>9</td>\n",
              "    </tr>\n",
              "    <tr>\n",
              "      <th>8</th>\n",
              "      <td>Brandtech Lab</td>\n",
              "      <td>342</td>\n",
              "      <td>9</td>\n",
              "      <td>Anuraj_Saini</td>\n",
              "      <td>7</td>\n",
              "      <td>7</td>\n",
              "    </tr>\n",
              "    <tr>\n",
              "      <th>9</th>\n",
              "      <td>Student Unicorn Lab</td>\n",
              "      <td>3367</td>\n",
              "      <td>10</td>\n",
              "      <td>sharath</td>\n",
              "      <td>8</td>\n",
              "      <td>8</td>\n",
              "    </tr>\n",
              "    <tr>\n",
              "      <th>10</th>\n",
              "      <td>Tech Lab</td>\n",
              "      <td>302</td>\n",
              "      <td>11</td>\n",
              "      <td>Ronak 0</td>\n",
              "      <td>16</td>\n",
              "      <td>19</td>\n",
              "    </tr>\n",
              "    <tr>\n",
              "      <th>11</th>\n",
              "      <td>Brandtech Lab</td>\n",
              "      <td>336</td>\n",
              "      <td>12</td>\n",
              "      <td>Amrit Malviya</td>\n",
              "      <td>2</td>\n",
              "      <td>4</td>\n",
              "    </tr>\n",
              "    <tr>\n",
              "      <th>12</th>\n",
              "      <td>Mentor</td>\n",
              "      <td>271</td>\n",
              "      <td>13</td>\n",
              "      <td>Saurabh</td>\n",
              "      <td>6</td>\n",
              "      <td>8</td>\n",
              "    </tr>\n",
              "    <tr>\n",
              "      <th>13</th>\n",
              "      <td>Student Unicorn Lab</td>\n",
              "      <td>3169</td>\n",
              "      <td>14</td>\n",
              "      <td>darshimalde</td>\n",
              "      <td>3</td>\n",
              "      <td>3</td>\n",
              "    </tr>\n",
              "    <tr>\n",
              "      <th>14</th>\n",
              "      <td>Tech Lab</td>\n",
              "      <td>100</td>\n",
              "      <td>15</td>\n",
              "      <td>Shagun</td>\n",
              "      <td>2</td>\n",
              "      <td>2</td>\n",
              "    </tr>\n",
              "    <tr>\n",
              "      <th>15</th>\n",
              "      <td>Student Unicorn Lab</td>\n",
              "      <td>3406</td>\n",
              "      <td>16</td>\n",
              "      <td>Ayisha</td>\n",
              "      <td>11</td>\n",
              "      <td>8</td>\n",
              "    </tr>\n",
              "    <tr>\n",
              "      <th>16</th>\n",
              "      <td>Growpital</td>\n",
              "      <td>69</td>\n",
              "      <td>17</td>\n",
              "      <td>Palash</td>\n",
              "      <td>6</td>\n",
              "      <td>7</td>\n",
              "    </tr>\n",
              "    <tr>\n",
              "      <th>17</th>\n",
              "      <td>Growpital</td>\n",
              "      <td>539</td>\n",
              "      <td>18</td>\n",
              "      <td>raman</td>\n",
              "      <td>5</td>\n",
              "      <td>5</td>\n",
              "    </tr>\n",
              "    <tr>\n",
              "      <th>18</th>\n",
              "      <td>Growpital</td>\n",
              "      <td>299</td>\n",
              "      <td>19</td>\n",
              "      <td>Nishant</td>\n",
              "      <td>4</td>\n",
              "      <td>5</td>\n",
              "    </tr>\n",
              "    <tr>\n",
              "      <th>19</th>\n",
              "      <td>Kringle</td>\n",
              "      <td>3408</td>\n",
              "      <td>20</td>\n",
              "      <td>Vatsal</td>\n",
              "      <td>2</td>\n",
              "      <td>2</td>\n",
              "    </tr>\n",
              "    <tr>\n",
              "      <th>20</th>\n",
              "      <td>Kringle</td>\n",
              "      <td>360</td>\n",
              "      <td>21</td>\n",
              "      <td>devmenkr</td>\n",
              "      <td>7</td>\n",
              "      <td>7</td>\n",
              "    </tr>\n",
              "  </tbody>\n",
              "</table>\n",
              "</div>\n",
              "      <button class=\"colab-df-convert\" onclick=\"convertToInteractive('df-cb3d6453-109e-40e3-9742-e17c7950e911')\"\n",
              "              title=\"Convert this dataframe to an interactive table.\"\n",
              "              style=\"display:none;\">\n",
              "        \n",
              "  <svg xmlns=\"http://www.w3.org/2000/svg\" height=\"24px\"viewBox=\"0 0 24 24\"\n",
              "       width=\"24px\">\n",
              "    <path d=\"M0 0h24v24H0V0z\" fill=\"none\"/>\n",
              "    <path d=\"M18.56 5.44l.94 2.06.94-2.06 2.06-.94-2.06-.94-.94-2.06-.94 2.06-2.06.94zm-11 1L8.5 8.5l.94-2.06 2.06-.94-2.06-.94L8.5 2.5l-.94 2.06-2.06.94zm10 10l.94 2.06.94-2.06 2.06-.94-2.06-.94-.94-2.06-.94 2.06-2.06.94z\"/><path d=\"M17.41 7.96l-1.37-1.37c-.4-.4-.92-.59-1.43-.59-.52 0-1.04.2-1.43.59L10.3 9.45l-7.72 7.72c-.78.78-.78 2.05 0 2.83L4 21.41c.39.39.9.59 1.41.59.51 0 1.02-.2 1.41-.59l7.78-7.78 2.81-2.81c.8-.78.8-2.07 0-2.86zM5.41 20L4 18.59l7.72-7.72 1.47 1.35L5.41 20z\"/>\n",
              "  </svg>\n",
              "      </button>\n",
              "      \n",
              "  <style>\n",
              "    .colab-df-container {\n",
              "      display:flex;\n",
              "      flex-wrap:wrap;\n",
              "      gap: 12px;\n",
              "    }\n",
              "\n",
              "    .colab-df-convert {\n",
              "      background-color: #E8F0FE;\n",
              "      border: none;\n",
              "      border-radius: 50%;\n",
              "      cursor: pointer;\n",
              "      display: none;\n",
              "      fill: #1967D2;\n",
              "      height: 32px;\n",
              "      padding: 0 0 0 0;\n",
              "      width: 32px;\n",
              "    }\n",
              "\n",
              "    .colab-df-convert:hover {\n",
              "      background-color: #E2EBFA;\n",
              "      box-shadow: 0px 1px 2px rgba(60, 64, 67, 0.3), 0px 1px 3px 1px rgba(60, 64, 67, 0.15);\n",
              "      fill: #174EA6;\n",
              "    }\n",
              "\n",
              "    [theme=dark] .colab-df-convert {\n",
              "      background-color: #3B4455;\n",
              "      fill: #D2E3FC;\n",
              "    }\n",
              "\n",
              "    [theme=dark] .colab-df-convert:hover {\n",
              "      background-color: #434B5C;\n",
              "      box-shadow: 0px 1px 3px 1px rgba(0, 0, 0, 0.15);\n",
              "      filter: drop-shadow(0px 1px 2px rgba(0, 0, 0, 0.3));\n",
              "      fill: #FFFFFF;\n",
              "    }\n",
              "  </style>\n",
              "\n",
              "      <script>\n",
              "        const buttonEl =\n",
              "          document.querySelector('#df-cb3d6453-109e-40e3-9742-e17c7950e911 button.colab-df-convert');\n",
              "        buttonEl.style.display =\n",
              "          google.colab.kernel.accessAllowed ? 'block' : 'none';\n",
              "\n",
              "        async function convertToInteractive(key) {\n",
              "          const element = document.querySelector('#df-cb3d6453-109e-40e3-9742-e17c7950e911');\n",
              "          const dataTable =\n",
              "            await google.colab.kernel.invokeFunction('convertToInteractive',\n",
              "                                                     [key], {});\n",
              "          if (!dataTable) return;\n",
              "\n",
              "          const docLinkHtml = 'Like what you see? Visit the ' +\n",
              "            '<a target=\"_blank\" href=https://colab.research.google.com/notebooks/data_table.ipynb>data table notebook</a>'\n",
              "            + ' to learn more about interactive tables.';\n",
              "          element.innerHTML = '';\n",
              "          dataTable['output_type'] = 'display_data';\n",
              "          await google.colab.output.renderOutput(dataTable, element);\n",
              "          const docLink = document.createElement('div');\n",
              "          docLink.innerHTML = docLinkHtml;\n",
              "          element.appendChild(docLink);\n",
              "        }\n",
              "      </script>\n",
              "    </div>\n",
              "  </div>\n",
              "  "
            ]
          },
          "metadata": {},
          "execution_count": 9
        }
      ]
    },
    {
      "cell_type": "code",
      "source": [
        "totaldata.dtypes\n"
      ],
      "metadata": {
        "colab": {
          "base_uri": "https://localhost:8080/"
        },
        "id": "3YE0dDxoE7Rm",
        "outputId": "bbe3b40c-0dda-4b35-fcaa-8bad2d4fe5bf"
      },
      "execution_count": 10,
      "outputs": [
        {
          "output_type": "execute_result",
          "data": {
            "text/plain": [
              "Team Name           object\n",
              "User ID              int64\n",
              "S No                 int64\n",
              "Name                object\n",
              "total_statements     int64\n",
              "total_reasons        int64\n",
              "dtype: object"
            ]
          },
          "metadata": {},
          "execution_count": 10
        }
      ]
    },
    {
      "cell_type": "code",
      "source": [
        "totaldata.columns"
      ],
      "metadata": {
        "colab": {
          "base_uri": "https://localhost:8080/"
        },
        "id": "VSjP0-bsFjwl",
        "outputId": "2d0d9657-4ad0-4ff6-c7df-01ba1924f1ef"
      },
      "execution_count": 11,
      "outputs": [
        {
          "output_type": "execute_result",
          "data": {
            "text/plain": [
              "Index(['Team Name', 'User ID', 'S No', 'Name', 'total_statements',\n",
              "       'total_reasons'],\n",
              "      dtype='object')"
            ]
          },
          "metadata": {},
          "execution_count": 11
        }
      ]
    },
    {
      "cell_type": "code",
      "source": [
        "cat_cols =['Team Name', 'User ID','Name']"
      ],
      "metadata": {
        "id": "xnAXd8rZFxxh"
      },
      "execution_count": 12,
      "outputs": []
    },
    {
      "cell_type": "code",
      "source": [
        "num_cols =['total_statements', 'total_reasons']"
      ],
      "metadata": {
        "id": "sxZFIoJkF-ck"
      },
      "execution_count": 13,
      "outputs": []
    },
    {
      "cell_type": "code",
      "source": [
        "totaldata[cat_cols] = totaldata[cat_cols].astype('category')"
      ],
      "metadata": {
        "id": "q_ILsZEeGEWz"
      },
      "execution_count": 14,
      "outputs": []
    },
    {
      "cell_type": "code",
      "source": [
        "totaldata[num_cols] = totaldata[num_cols].astype('float64')"
      ],
      "metadata": {
        "id": "qOk6UmCqGG0K"
      },
      "execution_count": 15,
      "outputs": []
    },
    {
      "cell_type": "code",
      "source": [
        "totaldata.dtypes"
      ],
      "metadata": {
        "colab": {
          "base_uri": "https://localhost:8080/"
        },
        "id": "lwteMvbdGLxU",
        "outputId": "a48bd75f-3501-45da-918b-24f7f61827d6"
      },
      "execution_count": 16,
      "outputs": [
        {
          "output_type": "execute_result",
          "data": {
            "text/plain": [
              "Team Name           category\n",
              "User ID             category\n",
              "S No                   int64\n",
              "Name                category\n",
              "total_statements     float64\n",
              "total_reasons        float64\n",
              "dtype: object"
            ]
          },
          "metadata": {},
          "execution_count": 16
        }
      ]
    },
    {
      "cell_type": "code",
      "source": [
        "totaldata.isnull().sum()"
      ],
      "metadata": {
        "colab": {
          "base_uri": "https://localhost:8080/"
        },
        "id": "kDEsjtZhGOmG",
        "outputId": "84193b3d-6d18-4194-cbce-96081015907d"
      },
      "execution_count": 17,
      "outputs": [
        {
          "output_type": "execute_result",
          "data": {
            "text/plain": [
              "Team Name           0\n",
              "User ID             0\n",
              "S No                0\n",
              "Name                0\n",
              "total_statements    0\n",
              "total_reasons       0\n",
              "dtype: int64"
            ]
          },
          "metadata": {},
          "execution_count": 17
        }
      ]
    },
    {
      "cell_type": "code",
      "source": [
        "totaldata"
      ],
      "metadata": {
        "colab": {
          "base_uri": "https://localhost:8080/",
          "height": 707
        },
        "id": "lxfx7MWjQnkw",
        "outputId": "937c4457-01d8-4482-b769-b0281cc74d27"
      },
      "execution_count": 18,
      "outputs": [
        {
          "output_type": "execute_result",
          "data": {
            "text/plain": [
              "               Team Name User ID  S No           Name  total_statements  \\\n",
              "0    Winning Culture Lab     280     1     Soumita M               13.0   \n",
              "1   Winning Culture Lab       75     2      Subhangi               13.0   \n",
              "2    Winning Culture Lab    1124     3   Nitin Shane               12.0   \n",
              "3                 Mentor     295     4        Merwin               13.0   \n",
              "4      Human Capital Lab     263     5  fardinkamal62               2.0   \n",
              "5      Human Capital Lab     504     6  __riddhi_213_               2.0   \n",
              "6                 Mentor     266     7    Rohit Dutta               3.0   \n",
              "7               Tech Lab      71     8       imshawan               9.0   \n",
              "8          Brandtech Lab     342     9   Anuraj_Saini               7.0   \n",
              "9    Student Unicorn Lab    3367    10        sharath               8.0   \n",
              "10              Tech Lab     302    11        Ronak 0              16.0   \n",
              "11         Brandtech Lab     336    12  Amrit Malviya               2.0   \n",
              "12                Mentor     271    13        Saurabh               6.0   \n",
              "13   Student Unicorn Lab    3169    14   darshimalde                3.0   \n",
              "14              Tech Lab     100    15        Shagun                2.0   \n",
              "15   Student Unicorn Lab    3406    16        Ayisha               11.0   \n",
              "16             Growpital      69    17        Palash                6.0   \n",
              "17             Growpital     539    18         raman                5.0   \n",
              "18             Growpital     299    19       Nishant                4.0   \n",
              "19               Kringle    3408    20        Vatsal                2.0   \n",
              "20               Kringle     360    21       devmenkr               7.0   \n",
              "\n",
              "    total_reasons  \n",
              "0            21.0  \n",
              "1            16.0  \n",
              "2            11.0  \n",
              "3            12.0  \n",
              "4             2.0  \n",
              "5             7.0  \n",
              "6             3.0  \n",
              "7             9.0  \n",
              "8             7.0  \n",
              "9             8.0  \n",
              "10           19.0  \n",
              "11            4.0  \n",
              "12            8.0  \n",
              "13            3.0  \n",
              "14            2.0  \n",
              "15            8.0  \n",
              "16            7.0  \n",
              "17            5.0  \n",
              "18            5.0  \n",
              "19            2.0  \n",
              "20            7.0  "
            ],
            "text/html": [
              "\n",
              "  <div id=\"df-e4c3a25c-3c7a-4278-8e7e-436eec4fb85c\">\n",
              "    <div class=\"colab-df-container\">\n",
              "      <div>\n",
              "<style scoped>\n",
              "    .dataframe tbody tr th:only-of-type {\n",
              "        vertical-align: middle;\n",
              "    }\n",
              "\n",
              "    .dataframe tbody tr th {\n",
              "        vertical-align: top;\n",
              "    }\n",
              "\n",
              "    .dataframe thead th {\n",
              "        text-align: right;\n",
              "    }\n",
              "</style>\n",
              "<table border=\"1\" class=\"dataframe\">\n",
              "  <thead>\n",
              "    <tr style=\"text-align: right;\">\n",
              "      <th></th>\n",
              "      <th>Team Name</th>\n",
              "      <th>User ID</th>\n",
              "      <th>S No</th>\n",
              "      <th>Name</th>\n",
              "      <th>total_statements</th>\n",
              "      <th>total_reasons</th>\n",
              "    </tr>\n",
              "  </thead>\n",
              "  <tbody>\n",
              "    <tr>\n",
              "      <th>0</th>\n",
              "      <td>Winning Culture Lab</td>\n",
              "      <td>280</td>\n",
              "      <td>1</td>\n",
              "      <td>Soumita M</td>\n",
              "      <td>13.0</td>\n",
              "      <td>21.0</td>\n",
              "    </tr>\n",
              "    <tr>\n",
              "      <th>1</th>\n",
              "      <td>Winning Culture Lab</td>\n",
              "      <td>75</td>\n",
              "      <td>2</td>\n",
              "      <td>Subhangi</td>\n",
              "      <td>13.0</td>\n",
              "      <td>16.0</td>\n",
              "    </tr>\n",
              "    <tr>\n",
              "      <th>2</th>\n",
              "      <td>Winning Culture Lab</td>\n",
              "      <td>1124</td>\n",
              "      <td>3</td>\n",
              "      <td>Nitin Shane</td>\n",
              "      <td>12.0</td>\n",
              "      <td>11.0</td>\n",
              "    </tr>\n",
              "    <tr>\n",
              "      <th>3</th>\n",
              "      <td>Mentor</td>\n",
              "      <td>295</td>\n",
              "      <td>4</td>\n",
              "      <td>Merwin</td>\n",
              "      <td>13.0</td>\n",
              "      <td>12.0</td>\n",
              "    </tr>\n",
              "    <tr>\n",
              "      <th>4</th>\n",
              "      <td>Human Capital Lab</td>\n",
              "      <td>263</td>\n",
              "      <td>5</td>\n",
              "      <td>fardinkamal62</td>\n",
              "      <td>2.0</td>\n",
              "      <td>2.0</td>\n",
              "    </tr>\n",
              "    <tr>\n",
              "      <th>5</th>\n",
              "      <td>Human Capital Lab</td>\n",
              "      <td>504</td>\n",
              "      <td>6</td>\n",
              "      <td>__riddhi_213_</td>\n",
              "      <td>2.0</td>\n",
              "      <td>7.0</td>\n",
              "    </tr>\n",
              "    <tr>\n",
              "      <th>6</th>\n",
              "      <td>Mentor</td>\n",
              "      <td>266</td>\n",
              "      <td>7</td>\n",
              "      <td>Rohit Dutta</td>\n",
              "      <td>3.0</td>\n",
              "      <td>3.0</td>\n",
              "    </tr>\n",
              "    <tr>\n",
              "      <th>7</th>\n",
              "      <td>Tech Lab</td>\n",
              "      <td>71</td>\n",
              "      <td>8</td>\n",
              "      <td>imshawan</td>\n",
              "      <td>9.0</td>\n",
              "      <td>9.0</td>\n",
              "    </tr>\n",
              "    <tr>\n",
              "      <th>8</th>\n",
              "      <td>Brandtech Lab</td>\n",
              "      <td>342</td>\n",
              "      <td>9</td>\n",
              "      <td>Anuraj_Saini</td>\n",
              "      <td>7.0</td>\n",
              "      <td>7.0</td>\n",
              "    </tr>\n",
              "    <tr>\n",
              "      <th>9</th>\n",
              "      <td>Student Unicorn Lab</td>\n",
              "      <td>3367</td>\n",
              "      <td>10</td>\n",
              "      <td>sharath</td>\n",
              "      <td>8.0</td>\n",
              "      <td>8.0</td>\n",
              "    </tr>\n",
              "    <tr>\n",
              "      <th>10</th>\n",
              "      <td>Tech Lab</td>\n",
              "      <td>302</td>\n",
              "      <td>11</td>\n",
              "      <td>Ronak 0</td>\n",
              "      <td>16.0</td>\n",
              "      <td>19.0</td>\n",
              "    </tr>\n",
              "    <tr>\n",
              "      <th>11</th>\n",
              "      <td>Brandtech Lab</td>\n",
              "      <td>336</td>\n",
              "      <td>12</td>\n",
              "      <td>Amrit Malviya</td>\n",
              "      <td>2.0</td>\n",
              "      <td>4.0</td>\n",
              "    </tr>\n",
              "    <tr>\n",
              "      <th>12</th>\n",
              "      <td>Mentor</td>\n",
              "      <td>271</td>\n",
              "      <td>13</td>\n",
              "      <td>Saurabh</td>\n",
              "      <td>6.0</td>\n",
              "      <td>8.0</td>\n",
              "    </tr>\n",
              "    <tr>\n",
              "      <th>13</th>\n",
              "      <td>Student Unicorn Lab</td>\n",
              "      <td>3169</td>\n",
              "      <td>14</td>\n",
              "      <td>darshimalde</td>\n",
              "      <td>3.0</td>\n",
              "      <td>3.0</td>\n",
              "    </tr>\n",
              "    <tr>\n",
              "      <th>14</th>\n",
              "      <td>Tech Lab</td>\n",
              "      <td>100</td>\n",
              "      <td>15</td>\n",
              "      <td>Shagun</td>\n",
              "      <td>2.0</td>\n",
              "      <td>2.0</td>\n",
              "    </tr>\n",
              "    <tr>\n",
              "      <th>15</th>\n",
              "      <td>Student Unicorn Lab</td>\n",
              "      <td>3406</td>\n",
              "      <td>16</td>\n",
              "      <td>Ayisha</td>\n",
              "      <td>11.0</td>\n",
              "      <td>8.0</td>\n",
              "    </tr>\n",
              "    <tr>\n",
              "      <th>16</th>\n",
              "      <td>Growpital</td>\n",
              "      <td>69</td>\n",
              "      <td>17</td>\n",
              "      <td>Palash</td>\n",
              "      <td>6.0</td>\n",
              "      <td>7.0</td>\n",
              "    </tr>\n",
              "    <tr>\n",
              "      <th>17</th>\n",
              "      <td>Growpital</td>\n",
              "      <td>539</td>\n",
              "      <td>18</td>\n",
              "      <td>raman</td>\n",
              "      <td>5.0</td>\n",
              "      <td>5.0</td>\n",
              "    </tr>\n",
              "    <tr>\n",
              "      <th>18</th>\n",
              "      <td>Growpital</td>\n",
              "      <td>299</td>\n",
              "      <td>19</td>\n",
              "      <td>Nishant</td>\n",
              "      <td>4.0</td>\n",
              "      <td>5.0</td>\n",
              "    </tr>\n",
              "    <tr>\n",
              "      <th>19</th>\n",
              "      <td>Kringle</td>\n",
              "      <td>3408</td>\n",
              "      <td>20</td>\n",
              "      <td>Vatsal</td>\n",
              "      <td>2.0</td>\n",
              "      <td>2.0</td>\n",
              "    </tr>\n",
              "    <tr>\n",
              "      <th>20</th>\n",
              "      <td>Kringle</td>\n",
              "      <td>360</td>\n",
              "      <td>21</td>\n",
              "      <td>devmenkr</td>\n",
              "      <td>7.0</td>\n",
              "      <td>7.0</td>\n",
              "    </tr>\n",
              "  </tbody>\n",
              "</table>\n",
              "</div>\n",
              "      <button class=\"colab-df-convert\" onclick=\"convertToInteractive('df-e4c3a25c-3c7a-4278-8e7e-436eec4fb85c')\"\n",
              "              title=\"Convert this dataframe to an interactive table.\"\n",
              "              style=\"display:none;\">\n",
              "        \n",
              "  <svg xmlns=\"http://www.w3.org/2000/svg\" height=\"24px\"viewBox=\"0 0 24 24\"\n",
              "       width=\"24px\">\n",
              "    <path d=\"M0 0h24v24H0V0z\" fill=\"none\"/>\n",
              "    <path d=\"M18.56 5.44l.94 2.06.94-2.06 2.06-.94-2.06-.94-.94-2.06-.94 2.06-2.06.94zm-11 1L8.5 8.5l.94-2.06 2.06-.94-2.06-.94L8.5 2.5l-.94 2.06-2.06.94zm10 10l.94 2.06.94-2.06 2.06-.94-2.06-.94-.94-2.06-.94 2.06-2.06.94z\"/><path d=\"M17.41 7.96l-1.37-1.37c-.4-.4-.92-.59-1.43-.59-.52 0-1.04.2-1.43.59L10.3 9.45l-7.72 7.72c-.78.78-.78 2.05 0 2.83L4 21.41c.39.39.9.59 1.41.59.51 0 1.02-.2 1.41-.59l7.78-7.78 2.81-2.81c.8-.78.8-2.07 0-2.86zM5.41 20L4 18.59l7.72-7.72 1.47 1.35L5.41 20z\"/>\n",
              "  </svg>\n",
              "      </button>\n",
              "      \n",
              "  <style>\n",
              "    .colab-df-container {\n",
              "      display:flex;\n",
              "      flex-wrap:wrap;\n",
              "      gap: 12px;\n",
              "    }\n",
              "\n",
              "    .colab-df-convert {\n",
              "      background-color: #E8F0FE;\n",
              "      border: none;\n",
              "      border-radius: 50%;\n",
              "      cursor: pointer;\n",
              "      display: none;\n",
              "      fill: #1967D2;\n",
              "      height: 32px;\n",
              "      padding: 0 0 0 0;\n",
              "      width: 32px;\n",
              "    }\n",
              "\n",
              "    .colab-df-convert:hover {\n",
              "      background-color: #E2EBFA;\n",
              "      box-shadow: 0px 1px 2px rgba(60, 64, 67, 0.3), 0px 1px 3px 1px rgba(60, 64, 67, 0.15);\n",
              "      fill: #174EA6;\n",
              "    }\n",
              "\n",
              "    [theme=dark] .colab-df-convert {\n",
              "      background-color: #3B4455;\n",
              "      fill: #D2E3FC;\n",
              "    }\n",
              "\n",
              "    [theme=dark] .colab-df-convert:hover {\n",
              "      background-color: #434B5C;\n",
              "      box-shadow: 0px 1px 3px 1px rgba(0, 0, 0, 0.15);\n",
              "      filter: drop-shadow(0px 1px 2px rgba(0, 0, 0, 0.3));\n",
              "      fill: #FFFFFF;\n",
              "    }\n",
              "  </style>\n",
              "\n",
              "      <script>\n",
              "        const buttonEl =\n",
              "          document.querySelector('#df-e4c3a25c-3c7a-4278-8e7e-436eec4fb85c button.colab-df-convert');\n",
              "        buttonEl.style.display =\n",
              "          google.colab.kernel.accessAllowed ? 'block' : 'none';\n",
              "\n",
              "        async function convertToInteractive(key) {\n",
              "          const element = document.querySelector('#df-e4c3a25c-3c7a-4278-8e7e-436eec4fb85c');\n",
              "          const dataTable =\n",
              "            await google.colab.kernel.invokeFunction('convertToInteractive',\n",
              "                                                     [key], {});\n",
              "          if (!dataTable) return;\n",
              "\n",
              "          const docLinkHtml = 'Like what you see? Visit the ' +\n",
              "            '<a target=\"_blank\" href=https://colab.research.google.com/notebooks/data_table.ipynb>data table notebook</a>'\n",
              "            + ' to learn more about interactive tables.';\n",
              "          element.innerHTML = '';\n",
              "          dataTable['output_type'] = 'display_data';\n",
              "          await google.colab.output.renderOutput(dataTable, element);\n",
              "          const docLink = document.createElement('div');\n",
              "          docLink.innerHTML = docLinkHtml;\n",
              "          element.appendChild(docLink);\n",
              "        }\n",
              "      </script>\n",
              "    </div>\n",
              "  </div>\n",
              "  "
            ]
          },
          "metadata": {},
          "execution_count": 18
        }
      ]
    },
    {
      "cell_type": "code",
      "source": [
        "result = totaldata.groupby(['Team Name'])['total_statements','total_reasons'].agg(['mean'])"
      ],
      "metadata": {
        "id": "PSiOksr6TI_H"
      },
      "execution_count": 31,
      "outputs": []
    },
    {
      "cell_type": "code",
      "source": [
        "print(result)"
      ],
      "metadata": {
        "colab": {
          "base_uri": "https://localhost:8080/"
        },
        "id": "AsMbQhfHSE8p",
        "outputId": "2e081c46-9c12-4d67-ef99-d5604a7176c7"
      },
      "execution_count": 32,
      "outputs": [
        {
          "output_type": "stream",
          "name": "stdout",
          "text": [
            "                     total_statements total_reasons\n",
            "                                 mean          mean\n",
            "Team Name                                          \n",
            "Brandtech Lab                4.500000      5.500000\n",
            "Growpital                    5.000000      5.666667\n",
            "Human Capital Lab            2.000000      4.500000\n",
            "Kringle                      4.500000      4.500000\n",
            "Mentor                       7.333333      7.666667\n",
            "Student Unicorn Lab          7.333333      6.333333\n",
            "Tech Lab                     9.000000     10.000000\n",
            "Winning Culture Lab         12.500000     16.000000\n",
            "Winning Culture Lab         13.000000     16.000000\n"
          ]
        }
      ]
    },
    {
      "cell_type": "code",
      "source": [
        "totaldata.dtypes"
      ],
      "metadata": {
        "colab": {
          "base_uri": "https://localhost:8080/"
        },
        "id": "AGJ9r0V9UdjJ",
        "outputId": "5f77d952-2998-49d7-8817-8abf6dcb67dd"
      },
      "execution_count": 33,
      "outputs": [
        {
          "output_type": "execute_result",
          "data": {
            "text/plain": [
              "Team Name           category\n",
              "User ID             category\n",
              "S No                   int64\n",
              "Name                category\n",
              "total_statements     float64\n",
              "total_reasons        float64\n",
              "dtype: object"
            ]
          },
          "metadata": {},
          "execution_count": 33
        }
      ]
    },
    {
      "cell_type": "code",
      "source": [
        "\n",
        "\n",
        "# Identify the categorical columns that need to be encoded\n",
        "cat_columns = ['Team Name', 'User ID', 'Name']\n",
        "\n",
        "# Create an instance of the LabelEncoder class\n",
        "le = LabelEncoder()\n",
        "\n",
        "# Fit the LabelEncoder instance to the categorical data\n",
        "for col in cat_columns:\n",
        "    totaldata[col] = le.fit_transform(totaldata[col])\n",
        "\n",
        "# Verify the transformed data\n",
        "print(totaldata)"
      ],
      "metadata": {
        "colab": {
          "base_uri": "https://localhost:8080/"
        },
        "id": "NITPsL_HVR4f",
        "outputId": "a10a9ffb-49e7-4508-cd9e-7ef65315e46c"
      },
      "execution_count": 42,
      "outputs": [
        {
          "output_type": "stream",
          "name": "stdout",
          "text": [
            "    Team Name  User ID  S No  Name  total_statements  total_reasons\n",
            "0           7        7     1    11              13.0           21.0\n",
            "1           8        2     2    12              13.0           16.0\n",
            "2           7       16     3     5              12.0           11.0\n",
            "3           4        8     4     3              13.0           12.0\n",
            "4           2        4     5    17               2.0            2.0\n",
            "5           2       14     6    14               2.0            7.0\n",
            "6           4        5     7     7               3.0            3.0\n",
            "7           6        1     8    18               9.0            9.0\n",
            "8           0       12     9     1               7.0            7.0\n",
            "9           5       18    10    20               8.0            8.0\n",
            "10          6       10    11     8              16.0           19.0\n",
            "11          0       11    12     0               2.0            4.0\n",
            "12          4        6    13     9               6.0            8.0\n",
            "13          5       17    14    15               3.0            3.0\n",
            "14          6        3    15    10               2.0            2.0\n",
            "15          5       19    16     2              11.0            8.0\n",
            "16          1        0    17     6               6.0            7.0\n",
            "17          1       15    18    19               5.0            5.0\n",
            "18          1        9    19     4               4.0            5.0\n",
            "19          3       20    20    13               2.0            2.0\n",
            "20          3       13    21    16               7.0            7.0\n"
          ]
        }
      ]
    },
    {
      "cell_type": "code",
      "source": [],
      "metadata": {
        "id": "HPX7eYguWbNv"
      },
      "execution_count": null,
      "outputs": []
    }
  ]
}